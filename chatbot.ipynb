{
  "nbformat": 4,
  "nbformat_minor": 0,
  "metadata": {
    "colab": {
      "name": "chatbot.ipynb",
      "provenance": [],
      "include_colab_link": true
    },
    "kernelspec": {
      "display_name": "Python 3",
      "name": "python3"
    },
    "language_info": {
      "name": "python"
    }
  },
  "cells": [
    {
      "cell_type": "markdown",
      "metadata": {
        "id": "view-in-github",
        "colab_type": "text"
      },
      "source": [
        "<a href=\"https://colab.research.google.com/github/SabaJazi/EA-Chatbot/blob/main/chatbot.ipynb\" target=\"_parent\"><img src=\"https://colab.research.google.com/assets/colab-badge.svg\" alt=\"Open In Colab\"/></a>"
      ]
    },
    {
      "cell_type": "markdown",
      "metadata": {
        "id": "5PoEr6mX6a4E"
      },
      "source": [
        "0- Libraries"
      ]
    },
    {
      "cell_type": "code",
      "metadata": {
        "id": "Hp6O2xYculxp"
      },
      "source": [
        "# import necessary library\n",
        "import sys\n",
        "# to avoid NumPy's truncation of outputs when certain code blocks are generated\n",
        "\n",
        "import pandas as pd\n",
        "from mpl_toolkits.mplot3d import Axes3D\n",
        "from sklearn.preprocessing import StandardScaler\n",
        "import matplotlib.pyplot as plt # plotting\n",
        "from wordcloud import WordCloud, STOPWORDS\n",
        "from collections import defaultdict\n",
        "import numpy as np \n",
        "np.set_printoptions(threshold=sys.maxsize)\n",
        "import os # accessing directory structure\n",
        "import seaborn as sns\n",
        "import warnings\n",
        "warnings.filterwarnings('ignore')"
      ],
      "execution_count": 2,
      "outputs": []
    },
    {
      "cell_type": "markdown",
      "metadata": {
        "id": "eShCz0RorAdI"
      },
      "source": [
        "#**Section1:  Data**"
      ]
    },
    {
      "cell_type": "markdown",
      "metadata": {
        "id": "ci6Twr8J-CRm"
      },
      "source": [
        "## **step 1: Create Dataset**\n"
      ]
    },
    {
      "cell_type": "code",
      "metadata": {
        "id": "ZndtVq-996WN"
      },
      "source": [
        "# get data file from google drive\n",
        "# from google.colab import files\n",
        "# files.upload()"
      ],
      "execution_count": null,
      "outputs": []
    },
    {
      "cell_type": "markdown",
      "metadata": {
        "id": "iSsfZZBdA4qK"
      },
      "source": [
        "## **Step 2. Load the dataset**"
      ]
    },
    {
      "cell_type": "code",
      "metadata": {
        "colab": {
          "base_uri": "https://localhost:8080/"
        },
        "id": "Kw0L0kBEB9fh",
        "outputId": "575fd4a2-4307-4e13-948b-0435e6a5869d"
      },
      "source": [
        "from google.colab import drive\n",
        "drive.mount('/content/drive')"
      ],
      "execution_count": 8,
      "outputs": [
        {
          "output_type": "stream",
          "name": "stdout",
          "text": [
            "Mounted at /content/drive\n"
          ]
        }
      ]
    },
    {
      "cell_type": "code",
      "metadata": {
        "colab": {
          "base_uri": "https://localhost:8080/"
        },
        "id": "SJPdoDa5_9Yo",
        "outputId": "f5770038-0788-4917-9c3e-1abb76a84393"
      },
      "source": [
        " \n",
        "from pathlib import Path\n",
        "df=pd.read_csv(\"/content/drive/MyDrive/tweet_emotions.csv\")\n",
        "df.head\n"
      ],
      "execution_count": 10,
      "outputs": [
        {
          "output_type": "execute_result",
          "data": {
            "text/plain": [
              "<bound method NDFrame.head of          tweet_id  ...                                            content\n",
              "0      1956967341  ...  @tiffanylue i know  i was listenin to bad habi...\n",
              "1      1956967666  ...  Layin n bed with a headache  ughhhh...waitin o...\n",
              "2      1956967696  ...                Funeral ceremony...gloomy friday...\n",
              "3      1956967789  ...               wants to hang out with friends SOON!\n",
              "4      1956968416  ...  @dannycastillo We want to trade with someone w...\n",
              "...           ...  ...                                                ...\n",
              "39995  1753918954  ...                                   @JohnLloydTaylor\n",
              "39996  1753919001  ...                     Happy Mothers Day  All my love\n",
              "39997  1753919005  ...  Happy Mother's Day to all the mommies out ther...\n",
              "39998  1753919043  ...  @niariley WASSUP BEAUTIFUL!!! FOLLOW ME!!  PEE...\n",
              "39999  1753919049  ...  @mopedronin bullet train from tokyo    the gf ...\n",
              "\n",
              "[40000 rows x 3 columns]>"
            ]
          },
          "metadata": {},
          "execution_count": 10
        }
      ]
    },
    {
      "cell_type": "markdown",
      "metadata": {
        "id": "bzAqTERkKq3w"
      },
      "source": [
        "##**Step3: EDA**"
      ]
    },
    {
      "cell_type": "code",
      "metadata": {
        "id": "VWgEGuEZKJ_N"
      },
      "source": [
        "def basic_eda(df, row_limit=5, list_elements_limit=10):\n",
        "    ### rows and columns\n",
        "    print('Info : There are {} columns in the dataset'.format(df.shape[1]))\n",
        "    print('Info : There are {} rows in the dataset'.format(df.shape[0]))\n",
        "    \n",
        "    print(\"==================================================\")\n",
        "    \n",
        "    ## data types\n",
        "    print(\"\\nData type information of different columns\")\n",
        "    dtypes_df = pd.DataFrame(df.dtypes).reset_index().rename(columns={0:'dtype', 'index':'column_name'})\n",
        "    cat_df = dtypes_df[dtypes_df['dtype']=='object']\n",
        "    num_df = dtypes_df[dtypes_df['dtype']!='object']\n",
        "    print('Info : There are {} categorical columns'.format(len(cat_df)))\n",
        "    print('Info : There are {} numerical columns'.format(len(dtypes_df)-len(cat_df)))\n",
        "    \n",
        "    if list_elements_limit >= len(cat_df):\n",
        "        print(\"Categorical columns : \", list(cat_df['column_name']))\n",
        "    else:\n",
        "        print(\"Categorical columns : \", list(cat_df['column_name'])[:list_elements_limit])\n",
        "        \n",
        "    if list_elements_limit >= len(num_df):\n",
        "        print(\"Numerical columns : \", list(num_df['column_name']))\n",
        "    else:\n",
        "        print(\"Numerical columns : \", list(num_df['column_name'])[:list_elements_limit])\n",
        "    \n",
        "    #dtypes_df['dtype'].value_counts().plot.bar()\n",
        "    display(dtypes_df.head(row_limit))\n",
        "    \n",
        "    print(\"==================================================\")\n",
        "    print(\"\\nDescription of numerical variables\")\n",
        "    \n",
        "    #### Describibg numerical columns\n",
        "    desc_df_num = df[list(num_df['column_name'])].describe().T.reset_index().rename(columns={'index':'column_name'})\n",
        "    display(desc_df_num.head(row_limit))\n",
        "    \n",
        "    print(\"==================================================\")\n",
        "    print(\"\\nDescription of categorical variables\")\n",
        "    \n",
        "    desc_df_cat = df[list(cat_df['column_name'])].describe().T.reset_index().rename(columns={'index':'column_name'})\n",
        "    display(desc_df_cat.head(row_limit))\n",
        "    \n",
        "    return"
      ],
      "execution_count": 11,
      "outputs": []
    },
    {
      "cell_type": "code",
      "metadata": {
        "colab": {
          "base_uri": "https://localhost:8080/",
          "height": 548
        },
        "id": "4ML7oI4hKMza",
        "outputId": "dd6c5cc8-1b9c-402c-81dd-95bdaf10d4be"
      },
      "source": [
        "basic_eda(df)"
      ],
      "execution_count": 12,
      "outputs": [
        {
          "output_type": "stream",
          "name": "stdout",
          "text": [
            "Info : There are 3 columns in the dataset\n",
            "Info : There are 40000 rows in the dataset\n",
            "==================================================\n",
            "\n",
            "Data type information of different columns\n",
            "Info : There are 2 categorical columns\n",
            "Info : There are 1 numerical columns\n",
            "Categorical columns :  ['sentiment', 'content']\n",
            "Numerical columns :  ['tweet_id']\n"
          ]
        },
        {
          "output_type": "display_data",
          "data": {
            "text/html": [
              "<div>\n",
              "<style scoped>\n",
              "    .dataframe tbody tr th:only-of-type {\n",
              "        vertical-align: middle;\n",
              "    }\n",
              "\n",
              "    .dataframe tbody tr th {\n",
              "        vertical-align: top;\n",
              "    }\n",
              "\n",
              "    .dataframe thead th {\n",
              "        text-align: right;\n",
              "    }\n",
              "</style>\n",
              "<table border=\"1\" class=\"dataframe\">\n",
              "  <thead>\n",
              "    <tr style=\"text-align: right;\">\n",
              "      <th></th>\n",
              "      <th>column_name</th>\n",
              "      <th>dtype</th>\n",
              "    </tr>\n",
              "  </thead>\n",
              "  <tbody>\n",
              "    <tr>\n",
              "      <th>0</th>\n",
              "      <td>tweet_id</td>\n",
              "      <td>int64</td>\n",
              "    </tr>\n",
              "    <tr>\n",
              "      <th>1</th>\n",
              "      <td>sentiment</td>\n",
              "      <td>object</td>\n",
              "    </tr>\n",
              "    <tr>\n",
              "      <th>2</th>\n",
              "      <td>content</td>\n",
              "      <td>object</td>\n",
              "    </tr>\n",
              "  </tbody>\n",
              "</table>\n",
              "</div>"
            ],
            "text/plain": [
              "  column_name   dtype\n",
              "0    tweet_id   int64\n",
              "1   sentiment  object\n",
              "2     content  object"
            ]
          },
          "metadata": {}
        },
        {
          "output_type": "stream",
          "name": "stdout",
          "text": [
            "==================================================\n",
            "\n",
            "Description of numerical variables\n"
          ]
        },
        {
          "output_type": "display_data",
          "data": {
            "text/html": [
              "<div>\n",
              "<style scoped>\n",
              "    .dataframe tbody tr th:only-of-type {\n",
              "        vertical-align: middle;\n",
              "    }\n",
              "\n",
              "    .dataframe tbody tr th {\n",
              "        vertical-align: top;\n",
              "    }\n",
              "\n",
              "    .dataframe thead th {\n",
              "        text-align: right;\n",
              "    }\n",
              "</style>\n",
              "<table border=\"1\" class=\"dataframe\">\n",
              "  <thead>\n",
              "    <tr style=\"text-align: right;\">\n",
              "      <th></th>\n",
              "      <th>column_name</th>\n",
              "      <th>count</th>\n",
              "      <th>mean</th>\n",
              "      <th>std</th>\n",
              "      <th>min</th>\n",
              "      <th>25%</th>\n",
              "      <th>50%</th>\n",
              "      <th>75%</th>\n",
              "      <th>max</th>\n",
              "    </tr>\n",
              "  </thead>\n",
              "  <tbody>\n",
              "    <tr>\n",
              "      <th>0</th>\n",
              "      <td>tweet_id</td>\n",
              "      <td>40000.0</td>\n",
              "      <td>1.845184e+09</td>\n",
              "      <td>1.188579e+08</td>\n",
              "      <td>1.693956e+09</td>\n",
              "      <td>1.751431e+09</td>\n",
              "      <td>1.855443e+09</td>\n",
              "      <td>1.962781e+09</td>\n",
              "      <td>1.966441e+09</td>\n",
              "    </tr>\n",
              "  </tbody>\n",
              "</table>\n",
              "</div>"
            ],
            "text/plain": [
              "  column_name    count          mean  ...           50%           75%           max\n",
              "0    tweet_id  40000.0  1.845184e+09  ...  1.855443e+09  1.962781e+09  1.966441e+09\n",
              "\n",
              "[1 rows x 9 columns]"
            ]
          },
          "metadata": {}
        },
        {
          "output_type": "stream",
          "name": "stdout",
          "text": [
            "==================================================\n",
            "\n",
            "Description of categorical variables\n"
          ]
        },
        {
          "output_type": "display_data",
          "data": {
            "text/html": [
              "<div>\n",
              "<style scoped>\n",
              "    .dataframe tbody tr th:only-of-type {\n",
              "        vertical-align: middle;\n",
              "    }\n",
              "\n",
              "    .dataframe tbody tr th {\n",
              "        vertical-align: top;\n",
              "    }\n",
              "\n",
              "    .dataframe thead th {\n",
              "        text-align: right;\n",
              "    }\n",
              "</style>\n",
              "<table border=\"1\" class=\"dataframe\">\n",
              "  <thead>\n",
              "    <tr style=\"text-align: right;\">\n",
              "      <th></th>\n",
              "      <th>column_name</th>\n",
              "      <th>count</th>\n",
              "      <th>unique</th>\n",
              "      <th>top</th>\n",
              "      <th>freq</th>\n",
              "    </tr>\n",
              "  </thead>\n",
              "  <tbody>\n",
              "    <tr>\n",
              "      <th>0</th>\n",
              "      <td>sentiment</td>\n",
              "      <td>40000</td>\n",
              "      <td>13</td>\n",
              "      <td>neutral</td>\n",
              "      <td>8638</td>\n",
              "    </tr>\n",
              "    <tr>\n",
              "      <th>1</th>\n",
              "      <td>content</td>\n",
              "      <td>40000</td>\n",
              "      <td>39827</td>\n",
              "      <td>I just received a mothers day card from my lov...</td>\n",
              "      <td>14</td>\n",
              "    </tr>\n",
              "  </tbody>\n",
              "</table>\n",
              "</div>"
            ],
            "text/plain": [
              "  column_name  count  ...                                                top  freq\n",
              "0   sentiment  40000  ...                                            neutral  8638\n",
              "1     content  40000  ...  I just received a mothers day card from my lov...    14\n",
              "\n",
              "[2 rows x 5 columns]"
            ]
          },
          "metadata": {}
        }
      ]
    },
    {
      "cell_type": "markdown",
      "metadata": {
        "id": "ZKlbCIPvLMGH"
      },
      "source": [
        "##*checking for null values*"
      ]
    },
    {
      "cell_type": "code",
      "metadata": {
        "colab": {
          "base_uri": "https://localhost:8080/"
        },
        "id": "hcGLJjsxKS-K",
        "outputId": "d1530f7d-6750-43cf-fce1-89eecabc54f9"
      },
      "source": [
        "total = df.isnull().sum()\n",
        "total"
      ],
      "execution_count": 13,
      "outputs": [
        {
          "output_type": "execute_result",
          "data": {
            "text/plain": [
              "tweet_id     0\n",
              "sentiment    0\n",
              "content      0\n",
              "dtype: int64"
            ]
          },
          "metadata": {},
          "execution_count": 13
        }
      ]
    },
    {
      "cell_type": "markdown",
      "metadata": {
        "id": "OxO5ESfmLTDq"
      },
      "source": [
        "**Distribution of sentiments in the data**"
      ]
    },
    {
      "cell_type": "code",
      "metadata": {
        "colab": {
          "base_uri": "https://localhost:8080/",
          "height": 513
        },
        "id": "j6gmZ927KWuf",
        "outputId": "86a9dfb4-ca13-4b55-eecc-8d3c319e9965"
      },
      "source": [
        "col = 'sentiment'\n",
        "fig, (ax1, ax2)  = plt.subplots(nrows=1, ncols=2, figsize=(12,8))\n",
        "explode = list((np.array(list(df[col].dropna().value_counts()))/sum(list(df[col].dropna().value_counts())))[::-1])[:10]\n",
        "labels = list(df[col].dropna().unique())[:10]\n",
        "sizes = df[col].value_counts()[:10]\n",
        "#ax.pie(sizes, explode=explode, colors=bo, startangle=60, labels=labels,autopct='%1.0f%%', pctdistance=0.9)\n",
        "ax2.pie(sizes,  explode=explode, startangle=60, labels=labels,autopct='%1.0f%%', pctdistance=0.9)\n",
        "ax2.add_artist(plt.Circle((0,0),0.6,fc='white'))\n",
        "sns.countplot(y =col, data = df, ax=ax1)\n",
        "ax1.set_title(\"Count of each emotion\")\n",
        "ax2.set_title(\"Percentage of each emotion\")\n",
        "plt.show()"
      ],
      "execution_count": 15,
      "outputs": [
        {
          "output_type": "display_data",
          "data": {
            "image/png": "[encoded data removed]",
            "text/plain": [
              "<Figure size 864x576 with 2 Axes>"
            ]
          },
          "metadata": {
            "needs_background": "light"
          }
        }
      ]
    },
    {
      "cell_type": "markdown",
      "metadata": {
        "id": "CmevUPjULd0V"
      },
      "source": [
        "Reducing the number of classes since the dataset is messy and will cause issues for our model to converge."
      ]
    },
    {
      "cell_type": "code",
      "metadata": {
        "id": "tFuogZogKiG-"
      },
      "source": [
        "df['sentiment'] = df['sentiment'].apply(lambda x : x if x in ['happiness', 'sadness', 'worry', 'neutral', 'love'] else \"other\") "
      ],
      "execution_count": 16,
      "outputs": []
    },
    {
      "cell_type": "code",
      "metadata": {
        "colab": {
          "base_uri": "https://localhost:8080/",
          "height": 513
        },
        "id": "J7UPgEKCKlTD",
        "outputId": "d754659c-39b7-4219-b3eb-b707792bfe28"
      },
      "source": [
        "col = 'sentiment'\n",
        "fig, (ax1, ax2)  = plt.subplots(nrows=1, ncols=2, figsize=(12,8))\n",
        "explode = list((np.array(list(df[col].dropna().value_counts()))/sum(list(df[col].dropna().value_counts())))[::-1])[:10]\n",
        "labels = list(df[col].dropna().unique())[:10]\n",
        "sizes = df[col].value_counts()[:10]\n",
        "#ax.pie(sizes, explode=explode, colors=bo, startangle=60, labels=labels,autopct='%1.0f%%', pctdistance=0.9)\n",
        "ax2.pie(sizes,  explode=explode, startangle=60, labels=labels,autopct='%1.0f%%', pctdistance=0.9)\n",
        "ax2.add_artist(plt.Circle((0,0),0.6,fc='white'))\n",
        "sns.countplot(y =col, data = df, ax=ax1)\n",
        "ax1.set_title(\"Count of each emotion\")\n",
        "ax2.set_title(\"Percentage of each emotion\")\n",
        "plt.show()"
      ],
      "execution_count": 17,
      "outputs": [
        {
          "output_type": "display_data",
          "data": {
            "image/png": "[encoded data removed]",
            "text/plain": [
              "<Figure size 864x576 with 2 Axes>"
            ]
          },
          "metadata": {
            "needs_background": "light"
          }
        }
      ]
    },
    {
      "cell_type": "code",
      "metadata": {
        "id": "kqZW45s3LuQo"
      },
      "source": [
        "df['char_length'] = df['content'].apply(lambda x : len(x))\n",
        "df['token_length'] = df['content'].apply(lambda x : len(x.split(\" \")))"
      ],
      "execution_count": 18,
      "outputs": []
    },
    {
      "cell_type": "code",
      "metadata": {
        "colab": {
          "base_uri": "https://localhost:8080/",
          "height": 405
        },
        "id": "ZI-MyXadL28H",
        "outputId": "98d095fd-e266-4dc5-ecf9-160a31475fe5"
      },
      "source": [
        "fig, (ax1, ax2)  = plt.subplots(nrows=1, ncols=2, figsize=(12,6))\n",
        "sns.distplot(df['char_length'], ax=ax1)\n",
        "sns.distplot(df['token_length'], ax=ax2)\n",
        "ax1.set_title('Number of characters in the tweet')\n",
        "ax2.set_title('Number of token(words) in the tweet')\n",
        "plt.show()"
      ],
      "execution_count": 19,
      "outputs": [
        {
          "output_type": "display_data",
          "data": {
            "image/png": "[encoded data removed]",
            "text/plain": [
              "<Figure size 864x432 with 2 Axes>"
            ]
          },
          "metadata": {
            "needs_background": "light"
          }
        }
      ]
    },
    {
      "cell_type": "markdown",
      "metadata": {
        "id": "vGNQP4UOMDe8"
      },
      "source": [
        "Finding the most common character and token length"
      ]
    },
    {
      "cell_type": "code",
      "metadata": {
        "id": "cmm2e9bVL-uq"
      },
      "source": [
        "avg_df = df.groupby('sentiment').agg({'char_length':'mean', 'token_length':'mean'})"
      ],
      "execution_count": 20,
      "outputs": []
    },
    {
      "cell_type": "code",
      "metadata": {
        "colab": {
          "base_uri": "https://localhost:8080/",
          "height": 423
        },
        "id": "oURZ7YLTMA3s",
        "outputId": "f4785cfe-378c-4835-efcf-440e1bbcfd93"
      },
      "source": [
        "fig, (ax1, ax2)  = plt.subplots(nrows=1, ncols=2, figsize=(16,6))\n",
        "ax1.bar(avg_df.index, avg_df['char_length'])\n",
        "ax2.bar(avg_df.index, avg_df['token_length'], color='green')\n",
        "ax1.set_title('Avg number of characters')\n",
        "ax2.set_title('Avg number of token(words)')\n",
        "ax1.set_xticklabels(avg_df.index, rotation = 45)\n",
        "ax2.set_xticklabels(avg_df.index, rotation = 45)\n",
        "plt.show()"
      ],
      "execution_count": 21,
      "outputs": [
        {
          "output_type": "display_data",
          "data": {
            "image/png": "[encoded data removed]",
            "text/plain": [
              "<Figure size 1152x432 with 2 Axes>"
            ]
          },
          "metadata": {
            "needs_background": "light"
          }
        }
      ]
    },
    {
      "cell_type": "markdown",
      "metadata": {
        "id": "DHEnLPIBMlOO"
      },
      "source": [
        ""
      ]
    },
    {
      "cell_type": "markdown",
      "metadata": {
        "id": "mvsG8GtZfwcP"
      },
      "source": [
        "##**Step4: Clean Data and preprocessing**\n"
      ]
    },
    {
      "cell_type": "code",
      "metadata": {
        "colab": {
          "base_uri": "https://localhost:8080/",
          "height": 421
        },
        "id": "kHXQGQq2H_7V",
        "outputId": "59d1c918-4943-4be4-c2a7-d9df51404853"
      },
      "source": [
        "raw_data=pd.DataFrame(columns=['Text','Category'])\n",
        "raw_data['Text']=df['content']\n",
        "raw_data['Category']=df['sentiment']\n",
        "raw_data"
      ],
      "execution_count": null,
      "outputs": [
        {
          "output_type": "execute_result",
          "data": {
            "text/html": [
              "<div>\n",
              "<style scoped>\n",
              "    .dataframe tbody tr th:only-of-type {\n",
              "        vertical-align: middle;\n",
              "    }\n",
              "\n",
              "    .dataframe tbody tr th {\n",
              "        vertical-align: top;\n",
              "    }\n",
              "\n",
              "    .dataframe thead th {\n",
              "        text-align: right;\n",
              "    }\n",
              "</style>\n",
              "<table border=\"1\" class=\"dataframe\">\n",
              "  <thead>\n",
              "    <tr style=\"text-align: right;\">\n",
              "      <th></th>\n",
              "      <th>Text</th>\n",
              "      <th>Category</th>\n",
              "    </tr>\n",
              "  </thead>\n",
              "  <tbody>\n",
              "    <tr>\n",
              "      <th>0</th>\n",
              "      <td>@tiffanylue i know  i was listenin to bad habi...</td>\n",
              "      <td>empty</td>\n",
              "    </tr>\n",
              "    <tr>\n",
              "      <th>1</th>\n",
              "      <td>Layin n bed with a headache  ughhhh...waitin o...</td>\n",
              "      <td>sadness</td>\n",
              "    </tr>\n",
              "    <tr>\n",
              "      <th>2</th>\n",
              "      <td>Funeral ceremony...gloomy friday...</td>\n",
              "      <td>sadness</td>\n",
              "    </tr>\n",
              "    <tr>\n",
              "      <th>3</th>\n",
              "      <td>wants to hang out with friends SOON!</td>\n",
              "      <td>enthusiasm</td>\n",
              "    </tr>\n",
              "    <tr>\n",
              "      <th>4</th>\n",
              "      <td>@dannycastillo We want to trade with someone w...</td>\n",
              "      <td>neutral</td>\n",
              "    </tr>\n",
              "    <tr>\n",
              "      <th>...</th>\n",
              "      <td>...</td>\n",
              "      <td>...</td>\n",
              "    </tr>\n",
              "    <tr>\n",
              "      <th>39995</th>\n",
              "      <td>@JohnLloydTaylor</td>\n",
              "      <td>neutral</td>\n",
              "    </tr>\n",
              "    <tr>\n",
              "      <th>39996</th>\n",
              "      <td>Happy Mothers Day  All my love</td>\n",
              "      <td>love</td>\n",
              "    </tr>\n",
              "    <tr>\n",
              "      <th>39997</th>\n",
              "      <td>Happy Mother's Day to all the mommies out ther...</td>\n",
              "      <td>love</td>\n",
              "    </tr>\n",
              "    <tr>\n",
              "      <th>39998</th>\n",
              "      <td>@niariley WASSUP BEAUTIFUL!!! FOLLOW ME!!  PEE...</td>\n",
              "      <td>happiness</td>\n",
              "    </tr>\n",
              "    <tr>\n",
              "      <th>39999</th>\n",
              "      <td>@mopedronin bullet train from tokyo    the gf ...</td>\n",
              "      <td>love</td>\n",
              "    </tr>\n",
              "  </tbody>\n",
              "</table>\n",
              "<p>40000 rows × 2 columns</p>\n",
              "</div>"
            ],
            "text/plain": [
              "                                                    Text    Category\n",
              "0      @tiffanylue i know  i was listenin to bad habi...       empty\n",
              "1      Layin n bed with a headache  ughhhh...waitin o...     sadness\n",
              "2                    Funeral ceremony...gloomy friday...     sadness\n",
              "3                   wants to hang out with friends SOON!  enthusiasm\n",
              "4      @dannycastillo We want to trade with someone w...     neutral\n",
              "...                                                  ...         ...\n",
              "39995                                   @JohnLloydTaylor     neutral\n",
              "39996                     Happy Mothers Day  All my love        love\n",
              "39997  Happy Mother's Day to all the mommies out ther...        love\n",
              "39998  @niariley WASSUP BEAUTIFUL!!! FOLLOW ME!!  PEE...   happiness\n",
              "39999  @mopedronin bullet train from tokyo    the gf ...        love\n",
              "\n",
              "[40000 rows x 2 columns]"
            ]
          },
          "metadata": {},
          "execution_count": 26
        }
      ]
    },
    {
      "cell_type": "code",
      "metadata": {
        "colab": {
          "base_uri": "https://localhost:8080/",
          "height": 35
        },
        "id": "l3xqNLy_cliu",
        "outputId": "45df6843-aec8-43ff-f0b4-540ddd085e36"
      },
      "source": [
        "import re \n",
        "\n",
        "text_string=\"@13tif_fanylue13 i know @i_dulay i was @mselliott09 @XO_SUFI_XO listenin to bad habit earlier and i started freakin at his part =[\"\n",
        "\n",
        "def clean_text(text_string):\n",
        "  remove_user= re.sub('@[A-Z?a-z?_?0-9?]+', '', text_string)\n",
        "  return re.sub('[^a-zA-Z0-9 ]', '', remove_user.lower())\n",
        "\n",
        "clean_text(text_string)"
      ],
      "execution_count": null,
      "outputs": [
        {
          "output_type": "execute_result",
          "data": {
            "application/vnd.google.colaboratory.intrinsic+json": {
              "type": "string"
            },
            "text/plain": [
              "' i know  i was   listenin to bad habit earlier and i started freakin at his part '"
            ]
          },
          "metadata": {},
          "execution_count": 27
        }
      ]
    },
    {
      "cell_type": "code",
      "metadata": {
        "id": "ZyfwV2ricurv"
      },
      "source": [
        "clean_data=pd.DataFrame(columns=['Text','Category'])"
      ],
      "execution_count": null,
      "outputs": []
    },
    {
      "cell_type": "code",
      "metadata": {
        "colab": {
          "base_uri": "https://localhost:8080/",
          "height": 421
        },
        "id": "xs7jNZshcyQs",
        "outputId": "f594b46a-b726-4512-f5c7-4ba717aa30e2"
      },
      "source": [
        "l=[]\n",
        "for i in raw_data['Text']:\n",
        "  l.append(clean_text(i))\n",
        "clean_data['Text']=l\n",
        "clean_data['Category']=raw_data['Category']\n",
        "clean_data\n"
      ],
      "execution_count": null,
      "outputs": [
        {
          "output_type": "execute_result",
          "data": {
            "text/html": [
              "<div>\n",
              "<style scoped>\n",
              "    .dataframe tbody tr th:only-of-type {\n",
              "        vertical-align: middle;\n",
              "    }\n",
              "\n",
              "    .dataframe tbody tr th {\n",
              "        vertical-align: top;\n",
              "    }\n",
              "\n",
              "    .dataframe thead th {\n",
              "        text-align: right;\n",
              "    }\n",
              "</style>\n",
              "<table border=\"1\" class=\"dataframe\">\n",
              "  <thead>\n",
              "    <tr style=\"text-align: right;\">\n",
              "      <th></th>\n",
              "      <th>Text</th>\n",
              "      <th>Category</th>\n",
              "    </tr>\n",
              "  </thead>\n",
              "  <tbody>\n",
              "    <tr>\n",
              "      <th>0</th>\n",
              "      <td>i know  i was listenin to bad habit earlier a...</td>\n",
              "      <td>empty</td>\n",
              "    </tr>\n",
              "    <tr>\n",
              "      <th>1</th>\n",
              "      <td>layin n bed with a headache  ughhhhwaitin on y...</td>\n",
              "      <td>sadness</td>\n",
              "    </tr>\n",
              "    <tr>\n",
              "      <th>2</th>\n",
              "      <td>funeral ceremonygloomy friday</td>\n",
              "      <td>sadness</td>\n",
              "    </tr>\n",
              "    <tr>\n",
              "      <th>3</th>\n",
              "      <td>wants to hang out with friends soon</td>\n",
              "      <td>enthusiasm</td>\n",
              "    </tr>\n",
              "    <tr>\n",
              "      <th>4</th>\n",
              "      <td>we want to trade with someone who has houston...</td>\n",
              "      <td>neutral</td>\n",
              "    </tr>\n",
              "    <tr>\n",
              "      <th>...</th>\n",
              "      <td>...</td>\n",
              "      <td>...</td>\n",
              "    </tr>\n",
              "    <tr>\n",
              "      <th>39995</th>\n",
              "      <td></td>\n",
              "      <td>neutral</td>\n",
              "    </tr>\n",
              "    <tr>\n",
              "      <th>39996</th>\n",
              "      <td>happy mothers day  all my love</td>\n",
              "      <td>love</td>\n",
              "    </tr>\n",
              "    <tr>\n",
              "      <th>39997</th>\n",
              "      <td>happy mothers day to all the mommies out there...</td>\n",
              "      <td>love</td>\n",
              "    </tr>\n",
              "    <tr>\n",
              "      <th>39998</th>\n",
              "      <td>wassup beautiful follow me  peep out my new h...</td>\n",
              "      <td>happiness</td>\n",
              "    </tr>\n",
              "    <tr>\n",
              "      <th>39999</th>\n",
              "      <td>bullet train from tokyo    the gf and i have ...</td>\n",
              "      <td>love</td>\n",
              "    </tr>\n",
              "  </tbody>\n",
              "</table>\n",
              "<p>40000 rows × 2 columns</p>\n",
              "</div>"
            ],
            "text/plain": [
              "                                                    Text    Category\n",
              "0       i know  i was listenin to bad habit earlier a...       empty\n",
              "1      layin n bed with a headache  ughhhhwaitin on y...     sadness\n",
              "2                          funeral ceremonygloomy friday     sadness\n",
              "3                    wants to hang out with friends soon  enthusiasm\n",
              "4       we want to trade with someone who has houston...     neutral\n",
              "...                                                  ...         ...\n",
              "39995                                                        neutral\n",
              "39996                     happy mothers day  all my love        love\n",
              "39997  happy mothers day to all the mommies out there...        love\n",
              "39998   wassup beautiful follow me  peep out my new h...   happiness\n",
              "39999   bullet train from tokyo    the gf and i have ...        love\n",
              "\n",
              "[40000 rows x 2 columns]"
            ]
          },
          "metadata": {},
          "execution_count": 29
        }
      ]
    },
    {
      "cell_type": "markdown",
      "metadata": {
        "id": "y_2BDc_mgBx2"
      },
      "source": [
        "##step4: **Split Data**"
      ]
    },
    {
      "cell_type": "code",
      "metadata": {
        "id": "LT8r4OobflPV"
      },
      "source": [
        "#split dataset into train, validation, and test set\n",
        "train_X=clean_data['Text'][:30000]\n",
        "train_Y=clean_data['Category'][:30000]\n",
        "val_X=clean_data['Text'][30000:35000]\n",
        "val_Y=clean_data['Category'][30000:35000]\n",
        "text_X=clean_data['Text'][35000:]\n",
        "text_Y=clean_data['Category'][35000:]"
      ],
      "execution_count": null,
      "outputs": []
    },
    {
      "cell_type": "markdown",
      "metadata": {
        "id": "-YTPAPwrskH3"
      },
      "source": [
        "#**Section 2: Build and evaluate several model**"
      ]
    },
    {
      "cell_type": "markdown",
      "metadata": {
        "id": "KWU5D_EgsqJl"
      },
      "source": [
        "##**model1: **Model 1:Naive Bayes model**"
      ]
    },
    {
      "cell_type": "code",
      "metadata": {
        "id": "vw5lfIoIsdCO"
      },
      "source": [
        "from sklearn.feature_extraction.text import CountVectorizer\n",
        "vector = CountVectorizer()\n",
        "#  create BoW representation the training set\n",
        "train_X_enc = vector.fit_transform(train_X)\n",
        "train_X_enc=train_X_enc.toarray()\n",
        "val_X = vector.transform(val_X)\n",
        "val_X=val_X.toarray()\n",
        "\n"
      ],
      "execution_count": null,
      "outputs": []
    },
    {
      "cell_type": "code",
      "metadata": {
        "id": "8jruQM02tCMD"
      },
      "source": [
        "from sklearn import preprocessing\n",
        "#fit train label into LabelEncoder()\n",
        "enc = preprocessing.LabelEncoder()\n",
        "enc.fit(train_Y)\n",
        "train_Y_enc=enc.transform(train_Y)\n",
        "val_Y_enc=enc.transform(val_Y)"
      ],
      "execution_count": null,
      "outputs": []
    },
    {
      "cell_type": "code",
      "metadata": {
        "colab": {
          "base_uri": "https://localhost:8080/"
        },
        "id": "BjT4a4r9tFIL",
        "outputId": "5d485316-fc3f-48c7-a1e1-c2dd04cf2441"
      },
      "source": [
        "from sklearn.naive_bayes import MultinomialNB\n",
        "MNB_model = MultinomialNB()\n",
        "MNB_model.fit(train_X_enc, train_Y_enc)"
      ],
      "execution_count": null,
      "outputs": [
        {
          "output_type": "execute_result",
          "data": {
            "text/plain": [
              "MultinomialNB(alpha=1.0, class_prior=None, fit_prior=True)"
            ]
          },
          "metadata": {},
          "execution_count": 33
        }
      ]
    },
    {
      "cell_type": "code",
      "metadata": {
        "colab": {
          "base_uri": "https://localhost:8080/"
        },
        "id": "sc9sStKpuyO_",
        "outputId": "d44b9389-a9ba-4824-afcb-03a736d61bf6"
      },
      "source": [
        "predict=MNB_model.predict(val_X)\n",
        "predict"
      ],
      "execution_count": null,
      "outputs": [
        {
          "output_type": "execute_result",
          "data": {
            "text/plain": [
              "array([12, 12,  8,  8,  7,  8,  8,  8,  8, 12,  8, 12,  7, 12, 10,  5, 10,\n",
              "       12,  5,  8,  8,  7,  8,  8, 12,  5, 10,  8, 12, 12, 12, 10, 12,  5,\n",
              "        8,  8,  8, 12, 10, 12,  7, 10,  8, 12,  5,  8,  8,  4, 12, 12,  8,\n",
              "       12, 12,  5,  8, 12,  8, 12,  5,  8, 12,  8, 12, 12,  8,  8, 12,  5,\n",
              "        5,  8, 12,  5, 12, 12, 10,  7,  8,  8, 12, 12, 12, 12, 10, 10,  5,\n",
              "       10,  8, 12,  8, 12, 12,  5, 12, 12, 12, 10, 12, 12,  8,  8,  8,  7,\n",
              "       12, 12, 12, 12, 12,  7,  5, 12,  8,  5, 12, 12, 12,  8, 10,  8, 12,\n",
              "        8, 12,  8,  8, 12, 12, 12, 12,  8, 12,  5, 12, 10, 12, 12,  8,  8,\n",
              "       12, 12, 12,  8,  8,  5, 12, 12, 12,  7,  8, 12, 12, 12, 12,  7, 12,\n",
              "       12, 12, 12, 12,  8,  5, 12, 12, 12, 12,  5, 12, 12,  8,  8, 12,  8,\n",
              "       12, 12, 12, 12,  7, 12,  8,  5, 10,  8,  5,  8, 12, 12, 12,  8, 12,\n",
              "       12, 12, 12, 12, 12, 12, 10,  5, 12,  8, 12,  8,  8, 12,  8, 12, 12,\n",
              "        5,  8, 12, 12, 12, 12, 12,  8,  8,  5, 12,  5,  8,  8,  5, 12,  5,\n",
              "       12, 12, 12, 12, 12, 12, 12, 12, 12, 12,  8,  8, 12, 12, 12,  8,  5,\n",
              "        8, 12,  5,  8,  8,  8,  8,  7,  5, 12,  8,  8,  8,  7,  8,  5, 12,\n",
              "       12, 12, 12, 12, 12, 12, 12, 12,  8,  5, 12, 12,  8,  8, 12,  8, 12,\n",
              "       12,  8,  8, 12, 10,  5, 12,  8, 12, 12, 12,  8,  5, 12, 12, 12, 12,\n",
              "        7,  5, 12, 12,  5,  5, 12, 12,  8,  8, 12,  8,  8, 12, 12,  8, 12,\n",
              "       12, 12, 12, 12,  8,  8,  8, 12, 12,  7, 12,  5, 10, 12, 12,  5, 12,\n",
              "       12,  8, 12, 12,  8, 12, 12,  8, 10, 12,  8,  8,  8, 12, 12, 12, 12,\n",
              "       10, 12,  8,  5, 10, 12,  7, 12, 12, 12,  7, 12, 12, 12,  8, 12, 10,\n",
              "       10, 12,  8,  8, 12, 12, 12,  8, 12, 12, 12,  5, 12, 12, 12, 12,  8,\n",
              "       12, 12, 12, 12, 12, 12, 12, 12,  8, 12,  8, 12,  5,  7,  7, 12,  8,\n",
              "       12,  5,  8, 12,  8,  5, 12, 12,  5, 12, 12, 12, 12,  8,  8,  8,  5,\n",
              "        8,  8, 12, 10,  7,  5, 12, 12,  5, 12,  5, 10,  7,  8,  8, 12, 12,\n",
              "        5,  8,  8,  8, 12, 12,  8,  7, 12,  8, 12,  5, 12, 12, 10, 12,  5,\n",
              "        5,  5, 12,  8, 12, 12, 12,  8, 12,  8, 10, 12, 12, 12,  5, 10,  8,\n",
              "        5,  8, 12,  8,  8,  5,  8,  5, 12, 12, 12, 12, 12,  7, 12,  8,  8,\n",
              "        8, 12, 12,  7,  8,  7,  8, 12, 12, 12, 12, 12, 10, 12,  7,  7,  8,\n",
              "       12, 12,  8,  8,  8, 12, 12,  8, 12, 12,  8,  8,  8, 12, 12,  5,  7,\n",
              "       12,  5, 12, 12,  8,  8, 12,  8,  8, 12, 12, 10, 12, 12, 12, 12, 10,\n",
              "       12, 12, 10, 12,  5, 12, 12, 10, 12, 10, 10, 12, 12,  5,  8, 12, 12,\n",
              "       12, 12, 12, 10, 12, 12, 12, 12,  8,  5, 12,  5, 12,  8, 12, 12,  8,\n",
              "       12, 12,  5, 12,  5, 10, 12,  8, 12,  8,  5, 12, 12, 12,  5,  8,  8,\n",
              "        5,  8,  5,  8, 12, 12, 12,  8,  8, 12, 12,  8, 12, 12, 12,  8,  5,\n",
              "       12,  8, 10,  8, 12, 12, 12, 12, 12, 12, 12, 10, 12,  5, 12,  8, 12,\n",
              "        5, 12, 10,  8, 12, 12,  8,  7, 12, 12,  5, 12, 12, 12, 12, 10, 12,\n",
              "        5, 12, 10, 10,  8, 12, 12,  8,  8,  8, 12, 12,  8, 12, 12, 10, 12,\n",
              "        8, 12, 12, 12, 12, 12, 12,  5, 12,  8, 12, 12, 12, 12,  8, 12, 12,\n",
              "       12,  5,  8,  8, 12,  5, 12,  5, 12, 12, 12,  5,  8, 12, 12,  5,  5,\n",
              "        8,  8, 12,  8, 12, 12, 12, 10, 12, 12,  8, 12, 12, 12,  8, 10, 10,\n",
              "        8, 10, 12, 12, 12, 12, 12, 12, 10, 12,  5,  8, 12, 12, 12, 10,  8,\n",
              "        8, 12, 12, 12,  8,  7, 12, 12, 10,  8, 12,  5, 12,  8, 12, 12,  8,\n",
              "        8, 12, 12, 12,  7,  8, 10, 12,  8,  5, 12,  8,  5, 12, 12,  8, 12,\n",
              "       12, 10, 12, 12,  7, 10, 12,  8,  5, 12,  5,  5,  8, 12,  8,  7, 12,\n",
              "       12, 12, 12,  8,  5, 12, 12, 12,  5, 10, 10, 12,  8,  8, 12,  8, 12,\n",
              "        8, 12, 12,  5, 12, 12, 12, 12, 12,  5,  8,  8, 12, 10,  5, 10, 12,\n",
              "        5,  8, 12, 12,  8,  5, 12, 12,  8, 12,  8,  8,  8, 12,  5, 12, 10,\n",
              "       12, 12,  8,  8, 10,  8, 12,  5,  7, 12,  5, 12, 12,  5, 10, 12,  8,\n",
              "       12,  5, 12, 12,  5, 10,  8,  5,  8, 12,  5,  7,  7, 12,  5,  8, 12,\n",
              "       12,  8,  5, 12,  5, 12,  8, 12, 12, 12, 12,  8,  8, 10, 12,  5, 12,\n",
              "       10,  8, 12, 12, 12, 12, 12,  8, 10,  8,  5,  5, 12, 12,  5, 12,  5,\n",
              "       12, 12, 12, 12,  8, 12, 12, 10,  5, 12, 12, 12,  8, 12,  5, 12, 12,\n",
              "        8, 12, 12, 12, 12,  5, 12,  8,  8, 12, 12, 12, 12,  8,  7,  8,  8,\n",
              "       12, 12, 12, 12, 12, 12, 12,  8,  5,  5, 10, 12,  5, 12,  8, 12, 12,\n",
              "        5, 12, 12,  8, 12, 12, 12, 12,  8, 12,  8, 12, 12,  8, 12,  8, 12,\n",
              "        8,  5, 12, 12, 12, 12,  8,  8, 12, 12, 12, 12,  7, 12, 12,  8,  5,\n",
              "        8, 12,  5,  8,  5,  8,  8,  8,  7, 12, 12,  5, 12, 12,  8,  5, 12,\n",
              "        7, 12,  8, 12,  5, 12,  5, 12,  8, 10,  8, 12,  8,  8, 12, 12,  5,\n",
              "       12, 12, 12, 12,  8, 12, 12, 12, 12,  5, 12,  5, 12, 12,  8, 12, 12,\n",
              "       12,  8, 12,  8,  5, 12,  5, 12,  8,  8,  5, 10,  8,  5,  5,  5, 12,\n",
              "        8, 12,  8,  5,  5, 12,  8,  5, 12,  7,  7, 12, 12, 12, 12,  5, 10,\n",
              "       12, 12,  8, 12, 12,  7,  8, 12,  8, 10,  8, 10, 12,  8, 12, 12, 10,\n",
              "       12,  8, 12, 12,  8,  5, 12,  8,  8, 12,  5, 12, 12, 12, 12, 12, 12,\n",
              "       12,  8,  5, 12, 12, 12, 12, 12, 12,  8, 12, 10, 12, 12,  8,  8,  8,\n",
              "       12, 12,  8,  8, 12, 12,  8,  8, 12, 12, 12,  5,  8,  8,  8,  8,  8,\n",
              "       12, 12, 12, 12,  8, 12, 12, 10, 12,  8,  8, 12, 12, 12,  5, 12, 12,\n",
              "       12, 12, 12, 12,  5,  5,  5, 10,  7, 12, 12, 12,  8, 12, 12,  8, 12,\n",
              "       12, 12, 12, 12, 12, 12,  7,  5, 12, 12, 12, 12, 12,  5, 12, 12, 12,\n",
              "       12, 12,  8,  8, 12,  8, 12, 12, 12, 12, 12,  8, 12,  8, 12,  8, 12,\n",
              "       12, 10, 12, 12,  5, 12,  7,  5,  5,  8,  5, 12, 10, 12, 12,  5,  5,\n",
              "       12, 12,  8, 12,  8, 12,  5,  8, 12,  8, 12, 12, 12, 12, 12, 12,  5,\n",
              "       12,  5,  8, 12, 12,  8, 12, 12,  8,  8,  8, 12, 12,  8,  8,  5,  8,\n",
              "       12,  8,  8, 12,  8,  8, 12,  7, 10, 12, 10,  8,  8,  8, 12, 12, 12,\n",
              "        5,  7,  8, 12, 12,  8,  8, 12, 12,  7,  8, 12,  8, 12, 12,  8, 12,\n",
              "       12, 12, 12,  8, 12,  8, 12,  8, 12, 12,  8,  5,  8, 12,  8, 12, 12,\n",
              "        8, 12,  8, 12,  8, 12, 12, 12,  5,  8,  8,  8,  5, 12, 12,  8,  8,\n",
              "       12,  7,  7,  8, 12, 10, 12, 12,  5, 12, 12, 12, 10,  5,  8,  5, 12,\n",
              "        8, 12,  5, 12,  8,  8, 12,  8, 12, 10,  5, 10,  5,  8, 12, 12, 12,\n",
              "       12, 12,  8,  5,  8,  7, 12,  5,  8,  8,  5,  8,  8,  8, 10,  8,  5,\n",
              "       12, 12, 12, 12,  8, 12,  7, 12,  5,  5,  7, 12,  8, 12, 10,  8,  8,\n",
              "        8,  8, 12,  7, 12, 12, 12, 12,  8,  5, 12, 12, 12, 12, 12,  8, 10,\n",
              "        8, 12, 12,  8,  8,  8, 12,  5, 12,  8, 12,  5, 12, 12, 12,  5, 12,\n",
              "        8,  8, 12,  8,  8, 12,  8,  8,  5, 12, 10,  8,  8, 12,  8, 12, 12,\n",
              "       12,  8, 12, 12, 12,  8, 12, 12,  8,  8, 12,  5,  8, 12,  5,  8, 12,\n",
              "       10, 12, 12, 12, 10, 12, 12, 12, 12, 12, 10,  5,  8,  8, 12, 12,  8,\n",
              "        7,  8,  7,  5, 12,  8,  8,  5,  8, 12, 10, 12,  8,  5,  7, 12,  7,\n",
              "       12, 12,  5, 12,  5,  7, 12,  7, 12, 12,  8, 12, 10, 12,  5, 12,  8,\n",
              "       12, 12, 12,  8, 12, 12, 12, 12,  8,  8, 12, 12,  5, 12, 12, 12, 12,\n",
              "       12, 12,  8,  5, 12,  8,  7,  8, 10,  8, 12, 12,  8, 12, 12,  8,  8,\n",
              "       12,  7,  7,  8, 10,  8, 12,  8, 10,  8,  5, 12,  5,  8, 12, 12,  8,\n",
              "        5, 12,  5, 12, 12, 12, 12, 12, 12, 12,  8, 12, 12, 12, 12,  5, 12,\n",
              "       12, 12,  8, 12, 12, 10, 12, 10, 12, 12, 12, 12,  8, 10, 12,  8, 12,\n",
              "       12, 12,  8,  5,  8, 12, 10, 12, 12,  8, 12, 12, 12,  8, 10, 12, 12,\n",
              "       12, 12, 12,  5, 12,  5, 10, 12, 10,  5,  8, 12,  8,  8, 12,  5,  8,\n",
              "       12, 12,  8, 12,  8,  5, 12, 12, 12,  5, 12, 12, 12, 12, 12,  8, 12,\n",
              "        8,  8, 12,  8,  5,  8,  5, 10, 12, 12, 12,  8, 12, 12, 12, 12,  8,\n",
              "        8,  8, 12,  5,  5, 12,  5,  8,  8,  8,  8,  7,  8,  8,  8, 12,  8,\n",
              "       12,  8,  8, 12, 12,  5, 12,  7,  7,  8, 12, 12, 12, 12, 12,  5,  5,\n",
              "       12,  5,  8,  5, 12, 12, 12, 12, 12,  8, 12,  8, 12,  8, 10, 12,  5,\n",
              "        8, 12, 12,  5,  8, 12,  5,  5, 10,  8,  8,  8, 12, 12,  8, 12, 12,\n",
              "       12, 10, 12, 12,  5, 12,  5,  5, 12, 12, 12,  8, 12, 12, 12,  5, 12,\n",
              "        5,  8,  8, 12,  8,  8, 12, 12, 12, 12, 12, 12, 12,  5,  7, 12, 12,\n",
              "       12, 12,  7,  8, 12,  5,  8, 12, 12, 12, 12, 10,  8, 12,  5,  8,  8,\n",
              "       12,  8,  5,  8,  8, 10,  8, 12,  5, 12,  5, 12, 12,  8, 12,  5,  8,\n",
              "        8, 12,  7,  7, 10, 12,  8, 10, 12, 12, 12, 12, 12,  5, 12, 12,  8,\n",
              "       12,  8,  5, 12, 12, 12, 12, 12, 12, 12,  5,  8, 10, 12, 12, 12, 12,\n",
              "       12, 12,  8, 12,  8,  8, 12, 12, 12, 12,  8, 12,  5, 10, 12, 10, 12,\n",
              "        5,  8, 12, 12,  8, 12,  8, 12, 12,  5, 12, 12, 12,  5, 12, 12, 12,\n",
              "        5, 12, 12, 12,  8, 12,  8,  8,  5,  8, 12, 12, 12,  5,  5,  5,  8,\n",
              "        8,  8,  8,  7, 10, 10, 12, 12, 12, 12, 12,  8, 12,  5,  5,  8,  8,\n",
              "       12,  5,  8,  5,  8, 12,  8,  8, 12,  8, 12, 12, 12,  5, 12, 12, 12,\n",
              "       12, 12,  5,  5, 12,  5,  6,  7, 12,  5,  8,  7, 12, 12,  8,  7,  8,\n",
              "       12,  8,  5,  5,  5, 12,  8, 12, 12,  8,  5,  5,  5,  8,  8,  8,  5,\n",
              "       12,  8,  8, 10,  8, 12, 12, 12, 12, 12, 12, 12, 12,  8,  8, 10,  8,\n",
              "        5,  8,  8,  5,  8,  5, 12, 12,  5, 12, 10, 12,  5, 12, 12, 12,  7,\n",
              "       12,  8, 12,  5,  5,  7,  5,  8,  5, 12,  8,  8, 12,  8,  7, 12, 12,\n",
              "       12, 12,  5, 12, 12,  7, 12, 12,  8,  8, 12,  8, 12, 12,  8, 12,  8,\n",
              "       12,  8, 12,  5, 10,  7, 12, 12, 12,  8, 12,  5, 12,  8, 12, 10, 12,\n",
              "       12, 12, 12, 12,  8,  4,  5, 12,  8, 12, 12, 12,  7, 12, 12, 12,  7,\n",
              "        8,  8, 12,  8, 12,  8,  8, 12,  7,  8,  8,  8, 12,  5, 12, 12, 12,\n",
              "       12, 12, 12,  7, 10, 12, 12,  5, 12, 12,  5, 12, 12,  8,  7, 12, 12,\n",
              "        7,  8, 12, 12,  8, 12, 12, 12, 12, 12, 12, 12, 12,  8, 12, 12, 12,\n",
              "       12,  8, 10,  5, 12, 12, 12, 12,  5,  8, 12, 12,  7,  5, 12,  8, 12,\n",
              "       12,  8, 12,  7, 12, 12, 12,  7, 12, 12, 12,  8, 12,  8, 12,  8,  5,\n",
              "       12,  7, 12,  8, 12,  8,  7, 12,  7,  7,  7, 10, 12,  5, 12, 12,  8,\n",
              "       12,  8,  5, 12, 10, 12, 10, 12,  8, 12,  5, 12,  8, 12, 10, 12,  5,\n",
              "        8, 12, 12, 12, 12,  8,  8, 12,  5,  5, 12,  5,  8,  5, 12, 12, 10,\n",
              "        8, 12, 10,  5, 12,  5,  5, 12, 12,  8,  8, 10,  8, 12,  5, 12,  8,\n",
              "        8,  8,  5,  5, 12, 12, 12,  8, 12,  7, 12, 12, 12,  8, 12,  5,  8,\n",
              "        5,  5,  8,  8,  5, 12,  7, 12,  8,  8, 12,  8,  8, 12,  8, 12, 10,\n",
              "       12,  8,  8, 12,  5,  7, 12,  8,  7,  8,  8,  5, 12, 12, 12,  8,  5,\n",
              "       12,  7, 12,  5,  7,  8, 12,  5, 12, 12,  8, 12, 12, 12,  5, 10, 12,\n",
              "        5,  8, 12, 12, 12, 12, 12, 12, 12, 12, 10, 12,  5, 12,  8,  5,  8,\n",
              "       12, 12,  5, 10, 12,  8, 12,  8, 12, 12, 12, 10, 12,  5, 12, 12, 12,\n",
              "        5,  7, 12, 12,  8, 10, 12,  8, 10,  5, 12, 12, 12, 12, 12, 12, 12,\n",
              "       12,  5,  5,  7,  5,  8,  8, 12, 12, 12, 12,  8, 12, 10, 12,  8, 12,\n",
              "       12,  5,  8, 12,  5, 12, 12, 10, 12,  5, 12,  7, 12, 12,  5, 12,  8,\n",
              "        8,  5,  5, 12, 12,  8,  5,  8, 12, 12,  5,  8, 12, 12, 12,  8,  7,\n",
              "       12,  7,  5,  7, 12,  5, 10, 12,  5,  8,  8,  7, 12, 12, 12,  8, 12,\n",
              "        8, 10, 12,  8, 12,  8,  8, 12, 12,  5, 12,  8,  8, 12, 12, 12, 12,\n",
              "       12,  8,  5, 12,  5,  7,  8,  8,  8, 12, 12, 12, 12, 12,  8,  7, 12,\n",
              "       12,  7, 12, 12,  5,  8, 12,  8,  8,  8, 12,  5, 12,  8, 12, 12, 12,\n",
              "       12, 12,  5, 12, 12,  5,  5, 12, 12, 12, 10, 12,  8,  5, 12, 12, 12,\n",
              "       12, 12, 12, 10, 12, 12, 12, 12,  8, 12, 12,  8,  5,  5,  8, 12, 12,\n",
              "       12,  8,  5, 12, 12, 12, 12, 12,  8, 12, 12, 12, 12, 12, 12,  5, 12,\n",
              "       10,  8,  5,  5,  8, 12,  8,  5, 12,  5, 12, 12,  5, 12, 12, 12, 10,\n",
              "       12, 12,  5,  5,  8, 12,  5, 12,  8, 12,  8, 12,  8, 12, 12,  7,  8,\n",
              "       12, 12,  8,  8, 12, 12,  7, 12, 12,  5,  5, 10, 12,  5, 12,  8,  5,\n",
              "        8, 12,  8,  8, 12,  5,  5, 12,  8,  7, 12,  8,  7, 12, 10,  5, 10,\n",
              "        5, 12, 10, 12,  5, 10,  8, 12,  8, 12, 12,  8, 12, 12, 12, 12,  8,\n",
              "        8,  8, 12,  5, 12, 12, 12, 12, 12,  8, 12,  7, 12,  8,  8,  8, 12,\n",
              "       10, 12, 12,  8,  5,  8,  5, 12,  5,  8,  5, 12, 12, 12,  5,  5, 12,\n",
              "        8, 12, 12,  8, 12, 12,  5, 12, 12, 12, 12, 12,  8,  5,  8, 12, 12,\n",
              "       12,  8, 12, 12, 12, 12, 12, 12, 12,  7, 12, 12, 12,  5,  5,  8,  8,\n",
              "        8,  8, 12, 12,  5, 12, 12, 12, 12,  8,  7,  5, 12,  8, 12,  7,  8,\n",
              "        8, 12,  7, 12, 12,  8,  8, 12, 12,  8, 12, 10,  8, 12,  8, 12,  5,\n",
              "       12, 12,  8, 12,  5, 12,  5,  8,  8,  8,  7, 12,  7, 10, 12, 12,  8,\n",
              "       12,  8,  5,  8,  8, 12,  8,  8,  8, 12,  5,  7,  5, 12,  8, 12, 12,\n",
              "       12, 10,  5,  8, 12,  5, 12, 10, 12, 12,  5, 12,  5, 12,  8,  7,  7,\n",
              "        8,  8,  7, 12, 12, 12,  7, 12,  8,  5,  8, 12,  8,  7,  5, 12, 10,\n",
              "       12,  8,  8,  7,  8,  8,  5, 10,  8, 12, 12,  5,  5,  8,  8, 12, 12,\n",
              "       12, 10,  5, 12, 12,  8, 12, 12, 12, 12, 12, 12, 12,  8,  8,  5, 12,\n",
              "       12, 12, 12,  7,  5, 12, 12, 12, 12, 12,  8, 12,  8,  8,  8, 12, 12,\n",
              "       10, 10,  5,  5, 12,  5,  8,  7, 12,  8,  8,  8,  7,  8, 10, 12, 12,\n",
              "        7, 12, 12, 12,  5,  5,  8,  7,  7, 12, 12,  5, 12, 12,  7,  8, 12,\n",
              "        5,  5, 12, 12, 12, 12,  8, 12, 12,  7, 12,  5, 12,  8, 12,  8, 12,\n",
              "        8, 12,  8, 12, 12,  5, 12,  8,  5, 12,  5, 12,  5, 12,  8, 12, 12,\n",
              "       12,  5,  8,  7,  8,  7, 10,  7, 10, 12, 12, 12, 12, 12, 12,  5,  5,\n",
              "       12, 12,  5,  8, 10, 12, 12, 12, 12, 12,  8,  8, 12, 12, 12, 12,  5,\n",
              "       12, 12, 12, 10, 12, 12,  8,  5,  7, 12,  8, 12,  8, 12,  7,  8, 12,\n",
              "       12, 12,  7,  5,  8, 12, 12,  5, 12, 12,  8,  8,  7, 12, 12,  5, 12,\n",
              "        7,  5,  5,  8,  8,  8,  8, 10,  8,  5, 12,  7,  8,  8, 12,  5, 10,\n",
              "        8, 12,  8, 12, 12, 12,  7,  8,  5,  5, 12, 10,  8, 12, 10,  8,  8,\n",
              "       12, 12, 12, 12, 12, 12,  8, 12,  5,  8, 12,  7, 12, 12,  5, 12,  5,\n",
              "        8,  5, 12, 12,  8, 12, 12, 12,  8,  5,  8, 12, 12,  5,  5,  5, 12,\n",
              "        5, 12,  8,  8, 12, 12, 12,  7, 12,  8,  7,  5,  7, 12, 12, 12,  5,\n",
              "        8, 12, 12, 12,  5, 12,  5,  8, 12, 12,  5, 12, 12, 12, 12,  8,  8,\n",
              "        8,  5, 12, 12, 12, 12,  5, 12,  8, 12,  7,  8, 12,  8,  5,  8, 12,\n",
              "       12, 12,  8,  5, 12, 12,  8,  8,  8, 10,  8,  8, 12, 12, 10,  8, 12,\n",
              "       12, 12, 12,  5, 12, 12,  8, 12, 12, 12, 12, 12, 12, 12,  8, 12, 12,\n",
              "       12,  8, 12,  7, 12,  8, 12,  8,  8, 12,  8,  5,  8,  5, 12, 12,  8,\n",
              "        8,  5, 12, 12, 12, 10,  5,  8, 12,  5, 12,  8,  8, 12,  8,  8,  5,\n",
              "        7, 12, 12,  7, 12, 12, 12, 12, 12, 10, 10,  8, 12,  8, 12, 12, 12,\n",
              "        7,  8,  8,  7, 12, 12, 12, 12,  5, 12, 12, 12,  8,  5, 12, 12,  5,\n",
              "       12, 12, 12, 12,  8, 12,  8,  8, 10,  8, 12,  8, 12, 12, 10, 12, 12,\n",
              "       12,  5, 12, 12, 12, 12,  8, 12,  5,  8,  8, 12, 10, 12,  5,  8,  8,\n",
              "       10,  5,  5,  8, 12, 12, 12, 12, 12, 12, 12,  8,  8,  5, 12, 12, 12,\n",
              "       10, 12, 12,  5, 12, 12,  5,  5, 12, 12, 12,  8,  8,  5, 12, 12,  8,\n",
              "       12,  8, 12,  8, 12, 12, 12,  5, 12, 12, 10,  5,  5,  8, 12, 12,  8,\n",
              "       12, 12, 12, 12,  5,  5,  8,  8, 12, 10,  8,  8, 12,  7, 12, 12,  5,\n",
              "       10,  5,  8,  8, 12, 12, 12,  8,  8,  8,  5, 12,  8,  5,  8, 12, 12,\n",
              "       12,  8, 10, 12,  8,  8, 12,  5, 12,  8,  5,  8, 10, 12, 12,  7, 12,\n",
              "       12, 12, 12, 12,  5,  7, 12, 10,  8,  8, 12, 12,  7,  5, 12, 10,  8,\n",
              "       12, 12,  8, 12,  7, 12,  7, 12, 12,  8, 12,  5, 12, 10,  5,  5,  8,\n",
              "       12,  8, 12, 10, 12,  5,  8, 12, 12, 12, 12, 12, 12, 10,  8, 12, 12,\n",
              "        8, 12,  7, 12,  8,  5,  7, 12, 12,  8,  5, 12,  8, 12, 12, 12,  8,\n",
              "       12,  8,  8, 12,  8,  5, 12,  8, 12, 12,  8, 10, 12, 12, 12, 10,  8,\n",
              "       12,  5, 12,  8,  8,  8,  5, 12, 12,  8,  8,  8,  5,  8, 12,  8, 12,\n",
              "        8, 12,  8, 12,  8,  8, 12, 12, 12, 12,  8, 12, 12,  8, 12, 12,  8,\n",
              "        5,  8,  8,  8,  8, 12, 12,  8,  5,  8,  8, 12,  8, 12,  8,  5, 12,\n",
              "       12,  8, 12, 12, 12, 12, 12,  8, 12, 12,  8, 12,  8, 12,  5, 12, 12,\n",
              "       10, 12, 12, 12, 12,  5, 12,  8,  5,  8, 12, 12,  5,  8, 12, 12, 12,\n",
              "       12, 12, 10, 12,  5, 12,  5, 12, 12, 12,  8,  8,  5,  8, 12,  7, 12,\n",
              "        5,  8, 12,  8,  5,  5,  5, 12, 12,  5, 12, 12, 12, 11,  8,  8,  5,\n",
              "       12,  7,  8, 12, 12,  8,  7, 12, 12,  8,  8,  5, 10, 12, 12, 12,  7,\n",
              "       12,  8,  5, 12,  5,  5, 12,  7,  8, 12, 12,  8, 12, 12, 12,  8,  5,\n",
              "       12,  5,  5, 12, 12,  8, 12,  8,  5, 12, 12,  5, 12, 12, 10, 12,  5,\n",
              "        8,  7,  7, 12, 12, 12, 12, 12,  5,  8,  8, 12,  7,  8,  7,  8,  8,\n",
              "       12,  7,  8, 12, 12, 12, 12, 12,  8, 12, 12, 12, 12,  8,  8, 12,  8,\n",
              "        8,  7,  5,  5, 12,  8,  7,  5, 12, 12,  5, 12,  8,  8, 12, 12, 12,\n",
              "        7,  8,  7, 12, 12,  8,  8, 10, 12, 12,  8,  8,  8,  8,  8,  5,  8,\n",
              "        7, 12, 10,  8,  5, 12,  5,  8, 12,  8,  8, 12,  8, 12, 12,  5, 12,\n",
              "        5, 12, 12,  5, 10, 10, 12, 10,  5, 12,  5,  8, 12,  5,  7, 12, 12,\n",
              "       12, 10,  8, 12, 12, 12,  5,  5, 12, 12,  5,  5,  8,  8, 12,  7, 12,\n",
              "       12,  8,  5,  8, 12,  8, 10, 12, 12, 12, 12,  5, 12,  5,  8, 12,  8,\n",
              "       10, 12,  8, 12, 12,  8, 12,  7, 12,  8, 12, 10, 12,  8,  8, 12, 12,\n",
              "       12, 12,  8, 12,  5, 12, 12, 12, 12, 10, 12, 12,  8, 12, 12,  5, 12,\n",
              "        7, 10, 12, 12, 12, 12,  8,  8,  8, 12,  8, 12,  8, 12, 12, 12,  8,\n",
              "       12,  7,  8,  5,  8, 12, 12, 12,  8,  8,  8, 12,  7,  8,  8, 12, 12,\n",
              "        7, 12, 12, 12, 12, 12, 12,  5, 12, 12,  8, 12, 12,  8, 12, 12,  8,\n",
              "       12,  8,  5,  8, 12, 12,  8,  5, 12, 12,  8, 12, 12, 12,  7, 12,  5,\n",
              "       12,  8, 12,  5,  5,  8, 12, 12, 10, 12, 12, 12,  5,  5, 12, 12,  7,\n",
              "        8,  5,  7,  5, 12,  8,  8, 12, 12,  8,  8, 12, 12, 12,  8, 10,  8,\n",
              "       12, 12,  5,  8,  8, 12,  8,  5, 12, 12,  8, 12,  8, 12, 10,  5, 12,\n",
              "        8,  8, 12, 12, 12, 10,  7, 12,  7,  5, 12, 12, 12,  8, 10,  7, 12,\n",
              "       12,  5, 12, 12,  8,  5, 12, 12,  8,  8, 12,  9, 12,  8,  7, 12,  8,\n",
              "       12, 12, 12, 12, 12,  8,  5, 12,  8,  7, 12,  5, 12,  7, 12,  5, 12,\n",
              "        7,  8, 12,  8,  8, 12, 12, 12, 12, 12,  5,  8, 10, 12, 12, 12, 12,\n",
              "       12,  7,  8, 12,  8, 12, 12,  8,  5,  7, 12, 12, 12,  8,  7, 12, 10,\n",
              "       12, 12,  8, 12, 12, 12,  5, 12, 12,  8, 12,  8, 12, 10, 12,  7, 12,\n",
              "        5, 12, 10, 10,  8, 12, 12, 12,  8, 10,  8, 12,  5, 12,  8, 12,  8,\n",
              "        7, 12, 12, 12,  7,  7, 12,  8, 12, 12,  5,  8, 12,  5, 10, 12, 12,\n",
              "        5,  7, 10, 12, 12,  8, 12, 10, 12, 12,  5, 12,  7,  8,  8, 12,  8,\n",
              "        8, 10, 12,  8, 12, 12, 10, 12, 10, 12, 10,  5,  8,  7, 12, 12, 12,\n",
              "       12,  7, 12,  8, 12, 12,  8, 12, 12, 12,  8, 12, 12, 12,  8,  7, 12,\n",
              "        8,  7,  8,  8,  8,  7, 12,  5, 10,  8,  7, 12, 12,  8, 12,  8,  7,\n",
              "       12,  7, 12, 12, 10,  7, 12, 12, 12,  8,  8,  8, 12, 12, 12, 12,  7,\n",
              "       12,  8, 12, 12,  8, 12, 12,  5, 12,  5,  8,  7, 12, 12,  5, 12,  7,\n",
              "       12, 12, 12,  8,  8,  5, 12,  8,  5, 12, 12, 12,  8, 12, 10,  8, 10,\n",
              "        8,  8,  8,  5,  8, 12,  5,  8, 12, 12, 12, 10, 12,  7,  5, 12, 12,\n",
              "       12, 12, 12, 12,  8, 12, 12, 12,  5,  8, 10, 12, 12, 12,  7, 12,  8,\n",
              "       12,  8, 12, 12,  8, 12,  8, 12, 12,  8, 12, 12, 12, 12, 12, 12, 12,\n",
              "       12,  8,  5,  8, 12,  5, 12,  8, 12, 12, 12, 12, 12, 12, 12, 12, 12,\n",
              "       12, 12,  7,  5, 12, 12,  5, 12,  5, 12,  8, 10, 12,  8,  8, 12,  5,\n",
              "        7, 12, 12, 12,  5, 12, 10, 12, 12, 12,  8, 12,  5,  8, 12, 12, 12,\n",
              "       12,  8, 12, 12,  7, 12, 12, 12,  8,  8,  7, 10, 12, 12,  5,  5,  5,\n",
              "       12, 12, 12,  8, 12, 12, 12,  8,  8, 12, 12, 12,  8,  8,  8, 12,  8,\n",
              "        5, 12, 12,  5, 12,  5, 12, 12, 10, 12, 12, 12, 12,  5, 12,  8, 12,\n",
              "        8,  7, 12, 10, 12,  8, 12,  8, 12,  5, 12,  7, 12,  7, 12, 12, 12,\n",
              "       12, 12,  5, 12, 12,  5,  7,  8, 12, 10,  5, 12,  5, 12,  5,  8,  8,\n",
              "        8, 12, 12, 12, 12,  8, 12,  5, 12,  7,  8, 12,  8, 12, 12, 12, 10,\n",
              "        7, 10,  5,  8,  5,  8, 12, 12,  4,  8,  5, 12, 12,  8,  5,  8,  5,\n",
              "        5,  8, 12, 12, 12,  5, 12,  8,  7, 12, 12,  5, 12,  5,  8,  5,  7,\n",
              "       12, 12, 12,  8, 12, 12, 12,  5,  8, 12, 12,  5, 12,  7, 10,  5, 12,\n",
              "       12, 12, 12, 10, 12, 10, 12, 12, 12,  5, 12, 12, 12, 12,  8,  8, 12,\n",
              "       12,  8,  7, 12, 12,  8,  8,  5, 12, 12,  8,  8,  5, 12, 12,  8, 12,\n",
              "        5, 12, 12, 12, 12, 12, 12, 12,  8, 12,  7,  5, 12, 12,  7,  5, 12,\n",
              "       12,  8,  5,  8, 12,  8, 12, 12,  5,  8,  8, 12,  5, 12,  8,  7, 12,\n",
              "        5,  8, 12, 12,  8, 12, 12, 12, 12, 12,  8,  8, 12, 10, 12, 12, 12,\n",
              "        7, 12,  7, 12, 12, 10, 12, 12, 12,  5,  7,  8,  8, 12,  7,  8, 12,\n",
              "        8,  8, 12,  8, 12,  5, 12, 10, 12,  5, 12, 12, 12,  5,  7, 12,  8,\n",
              "       12,  8, 12, 12,  8, 12, 12, 12,  8,  8, 12, 12, 12,  8, 12, 12, 12,\n",
              "        8,  5, 12, 12, 12,  7,  7,  8,  7,  5,  8,  8,  8, 12, 12, 12, 12,\n",
              "       12, 12, 12,  8,  5, 10, 12,  7,  8, 10, 12, 12,  8, 12, 12, 12, 12,\n",
              "       12, 12, 12,  8, 12, 12,  5, 12, 12, 12, 12, 12,  5, 12,  5, 12,  8,\n",
              "       12, 12, 12,  5,  8, 12, 12,  8, 12, 12, 12,  8, 12, 12, 12, 12, 12,\n",
              "       12,  8, 10, 12, 12,  8, 12, 10, 12,  5, 12, 10, 12, 12, 12, 12,  5,\n",
              "        8, 12, 12, 12, 12, 12,  8,  8, 12, 10, 12, 12, 12, 12,  8,  8, 12,\n",
              "       12, 12, 12, 12, 12, 12,  5,  5,  8,  8,  8,  8, 12, 12,  8, 12,  5,\n",
              "        8,  7, 10,  5, 12,  5,  8, 10, 12, 12, 10,  8,  8, 12, 12,  8, 12,\n",
              "        8, 12, 12,  5,  8, 12,  5,  8,  5,  5,  8, 10,  8,  8, 12, 12,  5,\n",
              "       12,  8, 12, 12, 12, 12, 12,  5, 12, 12,  8, 12, 12, 12, 12,  8, 12,\n",
              "       12, 12,  8, 12,  5,  8, 10,  8, 12,  5,  8,  8, 12,  5, 12, 12, 10,\n",
              "        5,  5,  8,  8, 12, 12, 12, 12,  5,  8,  7,  8,  5,  8,  5,  5,  8,\n",
              "        7, 12,  7,  8,  4, 12, 12,  8, 10,  8, 12,  7, 12, 10, 12,  5,  7,\n",
              "        8, 12, 12, 12,  5, 12, 12, 12,  5, 10, 12,  5, 12,  7,  8, 12, 10,\n",
              "       12,  5,  8,  8, 12,  5,  8,  8, 12, 12, 12, 12,  8, 12,  7,  8,  5,\n",
              "        8,  8, 10,  5, 10, 12, 12, 12,  8, 12,  7,  8, 12,  8,  8, 12, 12,\n",
              "       12, 12, 12,  8, 12,  8, 12,  8,  7,  8, 12,  8, 12,  8,  5,  5,  7,\n",
              "        8, 12, 10,  7, 12,  8, 12, 12,  7, 12,  8, 12,  8, 12,  5, 12, 12,\n",
              "        7,  8, 12,  8, 12,  8, 12, 12,  5, 12,  5, 12,  8, 12,  7, 12,  5,\n",
              "       12, 12,  5, 12, 10, 12,  5, 12, 12,  5,  8, 12, 12, 12,  8, 12, 12,\n",
              "       10, 12,  5, 12,  8,  5, 12,  5, 12, 12, 12,  5,  5, 12,  8,  5,  8,\n",
              "       12, 12, 12,  5, 12,  5,  5, 12,  8, 12, 12, 12, 12, 12, 12,  8, 12,\n",
              "        5,  8, 12, 12,  8, 12,  8, 12, 12,  5,  5, 12, 12, 12,  5, 12,  5,\n",
              "       12, 12, 12, 12,  8, 10, 12, 12, 10,  5, 10,  5,  5,  7, 10, 12, 12,\n",
              "        7,  8,  8,  5,  8, 12, 12, 12, 10, 12,  5, 12, 10,  5, 12,  8, 12,\n",
              "       12,  8, 12, 10, 12, 12, 12,  5,  8,  7,  8, 12, 12,  5, 12,  7, 12,\n",
              "       12, 12, 12,  8,  7, 12, 12, 12, 12, 10, 12,  8, 12, 12, 12,  5, 12,\n",
              "        8, 12,  5,  8,  8, 12,  5,  7, 12, 12, 12, 12,  8, 12,  5, 12, 12,\n",
              "       12, 12, 10, 12, 12, 12, 12, 12, 12,  8, 10, 12, 12, 12, 12,  8,  7,\n",
              "       12, 12, 12, 12, 12, 12,  8,  8, 12,  8, 10, 12, 12, 12, 12, 12,  8,\n",
              "        8, 10, 10, 12, 12, 12, 12,  8,  7,  8, 12, 12,  8,  8,  8,  8, 12,\n",
              "       12, 12])"
            ]
          },
          "metadata": {},
          "execution_count": 34
        }
      ]
    },
    {
      "cell_type": "code",
      "metadata": {
        "colab": {
          "base_uri": "https://localhost:8080/"
        },
        "id": "8CVbdSTYtJgk",
        "outputId": "e65f5fed-152d-4ab5-c15b-9c1ed67e2a1b"
      },
      "source": [
        "# importing the metrics module from sklearn\n",
        "from sklearn import metrics\n",
        "\n",
        "# use the accuracy_score metric to calculate accuracy of the MNB_model\n",
        "\n",
        "accuracy = metrics.accuracy_score(val_Y_enc, predict)\n",
        "accuracy"
      ],
      "execution_count": null,
      "outputs": [
        {
          "output_type": "execute_result",
          "data": {
            "text/plain": [
              "0.225"
            ]
          },
          "metadata": {},
          "execution_count": 35
        }
      ]
    }
  ]
}